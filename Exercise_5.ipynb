{
 "cells": [
  {
   "cell_type": "code",
   "execution_count": 2,
   "metadata": {},
   "outputs": [],
   "source": [
    "import pandas as pd\n",
    "df_t = pd.read_csv('Travel Pony Facebook.csv')\n",
    "# load csv document to df_t "
   ]
  },
  {
   "cell_type": "code",
   "execution_count": 3,
   "metadata": {},
   "outputs": [
    {
     "data": {
      "text/plain": [
       "1802"
      ]
     },
     "execution_count": 3,
     "metadata": {},
     "output_type": "execute_result"
    }
   ],
   "source": [
    "for i in range(len(df_t)):\n",
    "    if df_t['Amount Spent (USD)'][i] == 0:\n",
    "        df_t = df_t.drop(i)\n",
    "len(df_t)\n",
    "# where to drop amount spend equals zero"
   ]
  },
  {
   "cell_type": "code",
   "execution_count": 4,
   "metadata": {},
   "outputs": [
    {
     "data": {
      "text/plain": [
       "<matplotlib.axes._subplots.AxesSubplot at 0x1a1276bda0>"
      ]
     },
     "execution_count": 4,
     "metadata": {},
     "output_type": "execute_result"
    },
    {
     "data": {
      "image/png": "[encoded data removed]",
      "text/plain": [
       "<matplotlib.figure.Figure at 0x10f8bbfd0>"
      ]
     },
     "metadata": {},
     "output_type": "display_data"
    }
   ],
   "source": [
    "import seaborn as sns\n",
    "%matplotlib inline  \n",
    "sns.set_style('darkgrid')\n",
    "sns.distplot(df_t['Amount Spent (USD)'])\n",
    "# get the graph"
   ]
  },
  {
   "cell_type": "markdown",
   "metadata": {},
   "source": [
    "problem 2"
   ]
  },
  {
   "cell_type": "code",
   "execution_count": 5,
   "metadata": {},
   "outputs": [
    {
     "name": "stderr",
     "output_type": "stream",
     "text": [
      "/Users/yifanli/anaconda3/lib/python3.6/site-packages/pandas/core/indexing.py:194: SettingWithCopyWarning: \n",
      "A value is trying to be set on a copy of a slice from a DataFrame\n",
      "\n",
      "See the caveats in the documentation: http://pandas.pydata.org/pandas-docs/stable/indexing.html#indexing-view-versus-copy\n",
      "  self._setitem_with_indexer(indexer, value)\n"
     ]
    }
   ],
   "source": [
    "for i in range(len(df_t)):\n",
    "    if df_t[\"Campaign Name\"].str.contains('cyber',case = False).iloc[i] == True:\n",
    "        df_t[\"Campaign Name\"].iloc[i] = \"Cyber\" \n",
    "##############match any rows contains Cyber\n",
    "    elif df_t[\"Campaign Name\"].str.contains('TravelPony',case = False).iloc[i] == True:\n",
    "        df_t[\"Campaign Name\"].iloc[i]  = \"TravelPony\"\n",
    "\n",
    "    elif df_t[\"Campaign Name\"].str.contains('Nanigans',case = False).iloc[i] == True:\n",
    "        df_t[\"Campaign Name\"].iloc[i]  = \"Nanigans\"\n",
    "###############match any rows contains Nanigans\n",
    "      \n",
    "    elif df_t[\"Campaign Name\"].str.contains('Post',case = False).iloc[i] == True:\n",
    "         df_t[\"Campaign Name\"].iloc[i] = \"Post\"\n",
    "###############match any rows contains Post\n",
    " \n",
    "    elif df_t[\"Campaign Name\"].str.contains('Ad',case = False).iloc[i] == True:\n",
    "         df_t[\"Campaign Name\"].iloc[i] = \"Ad\"\n",
    "###############match any rows contains Ad\n",
    "        \n",
    "    elif df_t[\"Campaign Name\"].str.contains('Simple_Multi_Fill_Campaign',case = False).iloc[i] == True:\n",
    "        df_t[\"Campaign Name\"].iloc[i] = \"Simple_Multi_Fill_Campaign\""
   ]
  },
  {
   "cell_type": "code",
   "execution_count": 9,
   "metadata": {},
   "outputs": [],
   "source": [
    "df_tem = pd.get_dummies(df_t['Campaign Name'])\n",
    "df_t = pd.concat([df_t, df_tem], axis=1)"
   ]
  },
  {
   "cell_type": "code",
   "execution_count": null,
   "metadata": {},
   "outputs": [],
   "source": []
  },
  {
   "cell_type": "code",
   "execution_count": null,
   "metadata": {},
   "outputs": [],
   "source": []
  },
  {
   "cell_type": "code",
   "execution_count": null,
   "metadata": {},
   "outputs": [],
   "source": []
  },
  {
   "cell_type": "code",
   "execution_count": 7,
   "metadata": {},
   "outputs": [
    {
     "name": "stderr",
     "output_type": "stream",
     "text": [
      "/Users/yifanli/anaconda3/lib/python3.6/site-packages/statsmodels/compat/pandas.py:56: FutureWarning: The pandas.core.datetools module is deprecated and will be removed in a future version. Please use the pandas.tseries module instead.\n",
      "  from pandas.core import datetools\n"
     ]
    },
    {
     "name": "stdout",
     "output_type": "stream",
     "text": [
      "this is summary                             OLS Regression Results                            \n",
      "==============================================================================\n",
      "Dep. Variable:     Amount Spent (USD)   R-squared:                       0.928\n",
      "Model:                            OLS   Adj. R-squared:                  0.928\n",
      "Method:                 Least Squares   F-statistic:                     1360.\n",
      "Date:                Thu, 27 Sep 2018   Prob (F-statistic):               0.00\n",
      "Time:                        22:59:40   Log-Likelihood:                -6573.0\n",
      "No. Observations:                1802   AIC:                         1.318e+04\n",
      "Df Residuals:                    1784   BIC:                         1.328e+04\n",
      "Df Model:                          17                                         \n",
      "Covariance Type:            nonrobust                                         \n",
      "==============================================================================================\n",
      "                                 coef    std err          t      P>|t|      [0.025      0.975]\n",
      "----------------------------------------------------------------------------------------------\n",
      "Cyber                       -193.3195     26.951     -7.173      0.000    -246.179    -140.460\n",
      "TravelPony                     7.2926      4.253      1.715      0.087      -1.048      15.633\n",
      "Nanigans                      -2.3150      2.014     -1.149      0.251      -6.266       1.636\n",
      "Post                         -12.0410      7.576     -1.589      0.112     -26.899       2.817\n",
      "Ad                             0.1666      3.803      0.044      0.965      -7.292       7.625\n",
      "Simple_Multi_Fill_Campaign    -0.0647      1.882     -0.034      0.973      -3.756       3.627\n",
      "Reach                          0.0033      0.000     20.921      0.000       0.003       0.004\n",
      "Frequency                     -0.7778      1.836     -0.424      0.672      -4.378       2.823\n",
      "Impressions                   -0.0009   8.41e-05    -10.146      0.000      -0.001      -0.001\n",
      "Clicks                        -0.3859      0.113     -3.413      0.001      -0.608      -0.164\n",
      "Unique Clicks                  0.5155      0.127      4.057      0.000       0.266       0.765\n",
      "Page Likes                    24.4507      9.359      2.613      0.009       6.096      42.806\n",
      "Page Engagement              -21.1451      9.355     -2.260      0.024     -39.494      -2.796\n",
      "Post Engagement               18.0241      7.797      2.312      0.021       2.732      33.316\n",
      "Post Likes                     2.6100      1.564      1.669      0.095      -0.458       5.678\n",
      "Post Comments                  3.5949      1.627      2.209      0.027       0.403       6.787\n",
      "Post Shares                    4.9334      1.588      3.107      0.002       1.819       8.048\n",
      "Photo Views                    3.3214      1.562      2.126      0.034       0.257       6.385\n",
      "Website Clicks                 3.5644      1.563      2.281      0.023       0.500       6.629\n",
      "==============================================================================\n",
      "Omnibus:                      796.064   Durbin-Watson:                   1.812\n",
      "Prob(Omnibus):                  0.000   Jarque-Bera (JB):            21680.838\n",
      "Skew:                           1.484   Prob(JB):                         0.00\n",
      "Kurtosis:                      19.732   Cond. No.                     8.96e+18\n",
      "==============================================================================\n",
      "\n",
      "Warnings:\n",
      "[1] Standard Errors assume that the covariance matrix of the errors is correctly specified.\n",
      "[2] The smallest eigenvalue is 2.4e-26. This might indicate that there are\n",
      "strong multicollinearity problems or that the design matrix is singular.\n"
     ]
    }
   ],
   "source": [
    "import statsmodels.api as sm\n",
    "DV = df_t[\"Amount Spent (USD)\"]\n",
    "IV = df_t[[\"Cyber\",\"TravelPony\",\"Nanigans\",\"Post\",\"Ad\",\"Simple_Multi_Fill_Campaign\",\"Reach\",\"Frequency\",\"Impressions\",\"Clicks\",\"Unique Clicks\",\"Page Likes\",\n",
    "               \"Page Engagement\",\"Post Engagement\",\"Post Likes\",\"Post Comments\",\"Post Shares\",\"Photo Views\",\"Website Clicks\"]]\n",
    "\n",
    "model = sm.OLS(DV, IV).fit()\n",
    "predictions = model.predict(IV) # make the predictions by the model\n",
    "\n",
    "print(\"this is summary\", model.summary())"
   ]
  },
  {
   "cell_type": "markdown",
   "metadata": {},
   "source": [
    "problem 3"
   ]
  },
  {
   "cell_type": "code",
   "execution_count": 8,
   "metadata": {},
   "outputs": [
    {
     "name": "stdout",
     "output_type": "stream",
     "text": [
      "                                     0  Rank\n",
      "Cyber                      -193.319513  19.0\n",
      "TravelPony                    7.292553   3.0\n",
      "Nanigans                     -2.314978  16.0\n",
      "Post                        -12.041045  17.0\n",
      "Ad                            0.166576  10.0\n",
      "Simple_Multi_Fill_Campaign   -0.064728  13.0\n",
      "Reach                         0.003310  11.0\n",
      "Frequency                    -0.777756  15.0\n",
      "Impressions                  -0.000853  12.0\n",
      "Clicks                       -0.385926  14.0\n",
      "Unique Clicks                 0.515465   9.0\n",
      "Page Likes                   24.450740   1.0\n",
      "Page Engagement             -21.145054  18.0\n",
      "Post Engagement              18.024142   2.0\n",
      "Post Likes                    2.610037   8.0\n",
      "Post Comments                 3.594876   5.0\n",
      "Post Shares                   4.933423   4.0\n",
      "Photo Views                   3.321407   7.0\n",
      "Website Clicks                3.564398   6.0\n"
     ]
    }
   ],
   "source": [
    "############ concat only the parameter \n",
    "result = pd.concat([model.params], axis=1)\n",
    "\n",
    "result['Rank'] = result[0].rank(ascending=0)\n",
    "print(result)\n"
   ]
  },
  {
   "cell_type": "code",
   "execution_count": null,
   "metadata": {},
   "outputs": [],
   "source": []
  }
 ],
 "metadata": {
  "kernelspec": {
   "display_name": "Python 3",
   "language": "python",
   "name": "python3"
  },
  "language_info": {
   "codemirror_mode": {
    "name": "ipython",
    "version": 3
   },
   "file_extension": ".py",
   "mimetype": "text/x-python",
   "name": "python",
   "nbconvert_exporter": "python",
   "pygments_lexer": "ipython3",
   "version": "3.6.4"
  }
 },
 "nbformat": 4,
 "nbformat_minor": 2
}
